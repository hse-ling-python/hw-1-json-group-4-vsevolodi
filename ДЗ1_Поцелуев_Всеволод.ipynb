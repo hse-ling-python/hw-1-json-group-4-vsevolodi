{
 "cells": [
  {
   "cell_type": "markdown",
   "metadata": {},
   "source": [
    "Импортируем необходимые модули:"
   ]
  },
  {
   "cell_type": "code",
   "execution_count": 6,
   "metadata": {
    "scrolled": true
   },
   "outputs": [
    {
     "name": "stdout",
     "output_type": "stream",
     "text": [
      "Requirement already satisfied: pycodestyle in c:\\users\\всеволод\\appdata\\local\\programs\\python\\python37-32\\lib\\site-packages (2.5.0)\n",
      "Requirement already satisfied: flake8 in c:\\users\\всеволод\\appdata\\local\\programs\\python\\python37-32\\lib\\site-packages (3.7.8)\n",
      "Requirement already satisfied: pycodestyle_magic in c:\\users\\всеволод\\appdata\\local\\programs\\python\\python37-32\\lib\\site-packages (0.3)\n",
      "Requirement already satisfied: entrypoints<0.4.0,>=0.3.0 in c:\\users\\всеволод\\appdata\\local\\programs\\python\\python37-32\\lib\\site-packages (from flake8) (0.3)\n",
      "Requirement already satisfied: mccabe<0.7.0,>=0.6.0 in c:\\users\\всеволод\\appdata\\local\\programs\\python\\python37-32\\lib\\site-packages (from flake8) (0.6.1)\n",
      "Requirement already satisfied: pyflakes<2.2.0,>=2.1.0 in c:\\users\\всеволод\\appdata\\local\\programs\\python\\python37-32\\lib\\site-packages (from flake8) (2.1.1)\n",
      "The pycodestyle_magic extension is already loaded. To reload it, use:\n",
      "  %reload_ext pycodestyle_magic\n"
     ]
    }
   ],
   "source": [
    "from collections import Counter\n",
    "from collections import OrderedDict\n",
    "import string\n",
    "import json\n",
    "import re\n",
    "from pprint import pprint\n",
    "! pip3 install pycodestyle flake8 pycodestyle_magic\n",
    "%load_ext pycodestyle_magic\n",
    "%pycodestyle_on"
   ]
  },
  {
   "cell_type": "markdown",
   "metadata": {},
   "source": [
    "Считываем json файл и делаем из него построчный список"
   ]
  },
  {
   "cell_type": "code",
   "execution_count": 2,
   "metadata": {},
   "outputs": [],
   "source": [
    "twitter = []\n",
    "for line in open('hw_3_twitter.json'):\n",
    "    twitter.append(json.loads(line))"
   ]
  },
  {
   "cell_type": "markdown",
   "metadata": {},
   "source": [
    "# ЗАДАНИЕ 1.\n",
    "Выводим общее количество твитов:"
   ]
  },
  {
   "cell_type": "code",
   "execution_count": 46,
   "metadata": {},
   "outputs": [
    {
     "name": "stdout",
     "output_type": "stream",
     "text": [
      "2556 твитов всего\n"
     ]
    }
   ],
   "source": [
    "print(str(len(twitter)) + ' твитов всего')"
   ]
  },
  {
   "cell_type": "markdown",
   "metadata": {},
   "source": [
    "# ЗАДАНИЕ 2. \n",
    "Создаём переменную, равную нулю и ищем все посты с пометой 'delete', прибавляем переменной 1 за каждый такой пост"
   ]
  },
  {
   "cell_type": "code",
   "execution_count": 47,
   "metadata": {},
   "outputs": [
    {
     "name": "stdout",
     "output_type": "stream",
     "text": [
      "14.16% твитов удалено\n"
     ]
    }
   ],
   "source": [
    "delete_counter = 0\n",
    "for post in twitter:\n",
    "    if 'delete' in post:\n",
    "        delete_counter += 1\n",
    "print(str(round(delete_counter*100/len(twitter), 2)) + '% твитов удалено')"
   ]
  },
  {
   "cell_type": "markdown",
   "metadata": {},
   "source": [
    "# ЗАДАНИЕ 3. \n",
    "Теперь мы проходим циклом по всем постам. Сначала по ключу 'user' ищем инфу о пользователе, а потом по ключу 'lang' находим инфу о его языке, предварительно проверив файл на их наличие:"
   ]
  },
  {
   "cell_type": "code",
   "execution_count": 48,
   "metadata": {},
   "outputs": [
    {
     "name": "stdout",
     "output_type": "stream",
     "text": [
      "Counter({'en': 1048,\n",
      "         'ja': 411,\n",
      "         'es': 183,\n",
      "         'ko': 116,\n",
      "         'th': 104,\n",
      "         'pt': 80,\n",
      "         'ar': 69,\n",
      "         'fr': 39,\n",
      "         'id': 27,\n",
      "         'tr': 24,\n",
      "         'ru': 22,\n",
      "         'en-gb': 9,\n",
      "         'de': 8,\n",
      "         'it': 8,\n",
      "         'nl': 7,\n",
      "         'pl': 6,\n",
      "         'zh-tw': 6,\n",
      "         'fa': 5,\n",
      "         'vi': 5,\n",
      "         'sv': 4,\n",
      "         'ca': 2,\n",
      "         'zh-CN': 2,\n",
      "         'cs': 2,\n",
      "         'hu': 1,\n",
      "         'uk': 1,\n",
      "         'fi': 1,\n",
      "         'el': 1,\n",
      "         'zh-cn': 1,\n",
      "         'zh-TW': 1,\n",
      "         'zh-Hant': 1})\n"
     ]
    }
   ],
   "source": [
    "lang_base = []\n",
    "for post in twitter:\n",
    "    if 'user' in post:\n",
    "        if 'lang' in post['user']:\n",
    "            lang = post['user']['lang']\n",
    "            lang_base.append(lang)\n",
    "pprint(Counter(lang_base))"
   ]
  },
  {
   "cell_type": "markdown",
   "metadata": {},
   "source": [
    "# ЗАДАНИЕ 4. \n",
    "Таким же образом как и в предыдущем задании собираем id пользователей, но при распечатывании проверяем значение частоты каждого id."
   ]
  },
  {
   "cell_type": "code",
   "execution_count": 49,
   "metadata": {},
   "outputs": [
    {
     "name": "stdout",
     "output_type": "stream",
     "text": [
      "Всего таких пользователей:  25\n"
     ]
    }
   ],
   "source": [
    "user_base = []\n",
    "for post in twitter:\n",
    "    if 'user' in post:\n",
    "        if 'id' in post['user']:\n",
    "            user_base.append(post['user']['id'])\n",
    "user_quant = Counter(user_base)\n",
    "exceptions = []\n",
    "for item in user_quant:\n",
    "    if user_quant[item] > 1:\n",
    "        exceptions.append(str(item) + ':' + str(user_quant[item]))\n",
    "print('Всего таких пользователей: ', len(exceptions))"
   ]
  },
  {
   "cell_type": "markdown",
   "metadata": {},
   "source": [
    "# Задание 5.\n",
    "Таким же образом собираем хэштаги. Потом считаем их частоту коунтером. Сортируя полученные словарь по убыванию, печатаем первые 20 хэштеров."
   ]
  },
  {
   "cell_type": "code",
   "execution_count": 50,
   "metadata": {},
   "outputs": [
    {
     "name": "stdout",
     "output_type": "stream",
     "text": [
      "BTS : 17\n",
      "방탄소년단 : 13\n",
      "AMAs : 11\n",
      "人気投票ガチャ : 8\n",
      "태형 : 7\n",
      "뷔 : 6\n",
      "BTSinChicago : 5\n",
      "BTSLoveYourselfTour : 5\n",
      "오늘의방탄 : 5\n",
      "PledgeForSwachhBharat : 5\n",
      "MPN : 5\n",
      "PCAs : 4\n",
      "V : 4\n",
      "시카고1회차공연 : 4\n",
      "เป๊กผลิตโชค : 4\n",
      "JIMIN : 4\n",
      "running : 3\n",
      "NCT : 3\n",
      "지민 : 3\n",
      "WajahmuPlastik : 3\n"
     ]
    }
   ],
   "source": [
    "hashtag_base = []\n",
    "for post in twitter:\n",
    "    if 'entities' in post:\n",
    "        if 'hashtags' in post['entities']:\n",
    "            hashtag_line = post['entities']['hashtags']\n",
    "            for item in hashtag_line:\n",
    "                hashtag_base.append(item['text'])\n",
    "\n",
    "hashtags = Counter(hashtag_base)\n",
    "counter = 0\n",
    "for key in sorted(hashtags, key=hashtags.get, reverse=True):\n",
    "    print(key, ':', hashtags[key])\n",
    "    counter += 1\n",
    "    if counter > 19:\n",
    "        break"
   ]
  },
  {
   "cell_type": "markdown",
   "metadata": {},
   "source": [
    "# Задание 6.\n",
    "Собираем все англоязычные посты без помет 'retweeted_status' и 'quoted_status' в один список. Потом достаём из этих постов их текст и запихиваем в другой список. Конкатенируем список, чистим получившуюся строку от пунктуации и меняем регистр на нижний. Делим эту строку по пробелам. Используем коунтер, печатаем значения."
   ]
  },
  {
   "cell_type": "code",
   "execution_count": 54,
   "metadata": {
    "collapsed": true
   },
   "outputs": [
    {
     "name": "stdout",
     "output_type": "stream",
     "text": [
      "the : 96\n",
      "to : 74\n",
      " : 72\n",
      "a : 61\n",
      "i : 58\n",
      "and : 51\n",
      "you : 43\n",
      "of : 39\n",
      "is : 35\n",
      "for : 34\n",
      "it : 33\n",
      "that : 28\n",
      "in : 28\n",
      "on : 24\n",
      "my : 24\n",
      "be : 21\n",
      "me : 19\n",
      "this : 18\n",
      "have : 18\n",
      "are : 17\n",
      "so : 17\n",
      "get : 16\n",
      "not : 16\n",
      "more : 16\n",
      "what : 15\n",
      "but : 15\n",
      "your : 14\n",
      "with : 14\n",
      "just : 14\n",
      "about : 13\n",
      "at : 12\n",
      "its : 12\n",
      "من : 11\n",
      "we : 11\n",
      "all : 10\n",
      "الله : 10\n",
      "now : 10\n",
      "if : 10\n",
      "im : 10\n",
      "was : 10\n",
      "hit : 10\n",
      "can : 9\n",
      "out : 9\n",
      "up : 9\n",
      "who : 9\n",
      "from : 8\n",
      "i’m : 8\n",
      "like : 8\n",
      "he : 8\n",
      "people : 8\n",
      "they : 8\n",
      "still : 8\n",
      "know : 7\n",
      "love : 7\n",
      "or : 7\n",
      "no : 7\n",
      "24 : 7\n",
      "make : 7\n",
      "amp : 7\n",
      "some : 7\n"
     ]
    }
   ],
   "source": [
    "eng_posts = []\n",
    "for post in twitter:\n",
    "    if 'user' in post and 'retweeted_status' not in post:\n",
    "        if 'lang' in post['user'] and 'quoted_status' not in post:\n",
    "            if post['user']['lang'] == 'en':\n",
    "                eng_posts.append(post)\n",
    "eng_corpora = []\n",
    "for item in eng_posts:\n",
    "    eng_corpora.append(item['text'])\n",
    "long_string = ' '.join(eng_corpora)\n",
    "text = long_string.translate(str.maketrans('', '', string.punctuation))\n",
    "text = text.lower()\n",
    "b = text.split(' ')\n",
    "result = Counter(b)\n",
    "count = 0\n",
    "for key in sorted(result, key=result.get, reverse=True):\n",
    "    print(key, ':', result[key])\n",
    "    count += 1\n",
    "    if count > 59:\n",
    "        break"
   ]
  },
  {
   "cell_type": "markdown",
   "metadata": {},
   "source": [
    "# Задание 7.\n",
    "Собираю, где могу, фолловер рейт юзера и его имя и делаю их ключом и значением словаря folls_base соответственно. Далее применяю Counter. Применив обратную сортировку, печатаю первые 10 значений."
   ]
  },
  {
   "cell_type": "code",
   "execution_count": 52,
   "metadata": {},
   "outputs": [
    {
     "name": "stdout",
     "output_type": "stream",
     "text": [
      "Filosofía♕ : 2521403\n",
      "FITNESS Magazine : 1491309\n",
      "malaysiakini.com : 1206759\n",
      "NYT Science : 1137374\n",
      "Gramática : 625463\n",
      "TGRT Haber : 392472\n",
      "The Sun Football ⚽ : 383698\n",
      "Melbourne, Australia : 374222\n",
      "Roznama Express : 318189\n",
      "💞 ცųཞɠɛཞცơơɠıɛ 💞 : 311319\n"
     ]
    }
   ],
   "source": [
    "folls_base = {}\n",
    "for post in twitter:\n",
    "    if 'user' in post:\n",
    "        if 'followers_count' in post['user']:\n",
    "            folls_count = post['user']['followers_count']\n",
    "            name = post['user']['name']\n",
    "            if name not in folls_base:\n",
    "                folls_base[name] = folls_count\n",
    "folls_base = Counter(folls_base)\n",
    "counter = 0\n",
    "for key in sorted(folls_base, key=folls_base.get, reverse=True):\n",
    "    print(key, ':', folls_base[key])\n",
    "    counter += 1\n",
    "    if counter > 9:\n",
    "        break"
   ]
  },
  {
   "cell_type": "markdown",
   "metadata": {},
   "source": [
    "# Задание 8. \n",
    "Задаём паттерн поиска регэксом названия сорса. Находим в посте инфу о сорсе (там, где она есть), достаём название сорса с помощью ранее заданного паттерна. Выводим статистику и топ 10 аналогично предыдущему заданию."
   ]
  },
  {
   "cell_type": "code",
   "execution_count": 53,
   "metadata": {},
   "outputs": [
    {
     "name": "stdout",
     "output_type": "stream",
     "text": [
      "Twitter for iPhone : 800\n",
      "Twitter for Android : 695\n",
      "Twitter Web Client : 140\n",
      "twittbot.net : 122\n",
      "Twitter Lite : 51\n",
      "Twitter for iPad : 28\n",
      "TweetDeck : 23\n",
      "Facebook : 17\n",
      "IFTTT : 14\n",
      "تطبيق قرآني : 10\n"
     ]
    }
   ],
   "source": [
    "source_base = []\n",
    "pattern = '<.*?>(.*?)<.*?>'\n",
    "for post in twitter:\n",
    "    if 'source' in post:\n",
    "        unit = post['source']\n",
    "        unit = re.search(pattern, unit).group(1)\n",
    "        source_base.append(unit)\n",
    "sources = Counter(source_base)\n",
    "counter = 0\n",
    "for key in sorted(sources, key=sources.get, reverse=True):\n",
    "    print(key, ':', sources[key])\n",
    "    counter += 1\n",
    "    if counter > 9:\n",
    "        break"
   ]
  }
 ],
 "metadata": {
  "kernelspec": {
   "display_name": "Python 3",
   "language": "python",
   "name": "python3"
  },
  "language_info": {
   "codemirror_mode": {
    "name": "ipython",
    "version": 3
   },
   "file_extension": ".py",
   "mimetype": "text/x-python",
   "name": "python",
   "nbconvert_exporter": "python",
   "pygments_lexer": "ipython3",
   "version": "3.7.4"
  }
 },
 "nbformat": 4,
 "nbformat_minor": 2
}
